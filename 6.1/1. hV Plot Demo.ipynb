{
 "cells": [
  {
   "cell_type": "code",
   "execution_count": 10,
   "metadata": {},
   "outputs": [],
   "source": [
    "import numpy as np\n",
    "import pandas as pd\n",
    "import hvplot.pandas"
   ]
  },
  {
   "cell_type": "code",
   "execution_count": 11,
   "metadata": {},
   "outputs": [],
   "source": [
    "# Data Prep\n",
    "df_idx = pd.date_range(\"1/1/2018\", periods=52)\n",
    "df = pd.DataFrame(\n",
    "    np.random.randn(52, 4), index=df_idx, columns=(\"APPL\", \"GOGLE\", \"AMMD\", \"BCOIN\")\n",
    ").pct_change()"
   ]
  },
  {
   "cell_type": "code",
   "execution_count": 12,
   "metadata": {},
   "outputs": [
    {
     "data": {},
     "metadata": {},
     "output_type": "display_data"
    },
    {
     "data": {
      "application/vnd.holoviews_exec.v0+json": "",
      "text/html": [
       "<div id='1747'>\n",
       "\n",
       "\n",
       "\n",
       "\n",
       "\n",
       "  <div class=\"bk-root\" id=\"b44aa9eb-dcf4-4787-8068-697c13d94044\" data-root-id=\"1747\"></div>\n",
       "</div>\n",
       "<script type=\"application/javascript\">(function(root) {\n",
       "  function embed_document(root) {\n",
       "    var docs_json = {\"84ced836-e6e4-4814-813f-9e036da504f9\":{\"roots\":{\"references\":[{\"attributes\":{\"data_source\":{\"id\":\"1819\"},\"glyph\":{\"id\":\"1822\"},\"hover_glyph\":null,\"muted_glyph\":{\"id\":\"1824\"},\"nonselection_glyph\":{\"id\":\"1823\"},\"selection_glyph\":null,\"view\":{\"id\":\"1826\"}},\"id\":\"1825\",\"type\":\"GlyphRenderer\"},{\"attributes\":{\"end\":67.46856315796215,\"reset_end\":67.46856315796215,\"reset_start\":-160.4214346652663,\"start\":-160.4214346652663,\"tags\":[[[\"value\",\"value\",null]]]},\"id\":\"1750\",\"type\":\"Range1d\"},{\"attributes\":{\"source\":{\"id\":\"1789\"}},\"id\":\"1796\",\"type\":\"CDSView\"},{\"attributes\":{\"source\":{\"id\":\"1850\"}},\"id\":\"1857\",\"type\":\"CDSView\"},{\"attributes\":{\"label\":{\"value\":\"AMMD\"},\"renderers\":[{\"id\":\"1856\"}]},\"id\":\"1882\",\"type\":\"LegendItem\"},{\"attributes\":{\"line_alpha\":0.2,\"line_color\":\"#ff7e0e\",\"line_width\":2,\"x\":{\"field\":\"index\"},\"y\":{\"field\":\"value\"}},\"id\":\"1824\",\"type\":\"Line\"},{\"attributes\":{},\"id\":\"1802\",\"type\":\"UnionRenderers\"},{\"attributes\":{},\"id\":\"1867\",\"type\":\"UnionRenderers\"},{\"attributes\":{\"children\":[{\"id\":\"1748\"},{\"id\":\"1755\"},{\"id\":\"2152\"}],\"margin\":[0,0,0,0],\"name\":\"Row02683\",\"tags\":[\"embedded\"]},\"id\":\"1747\",\"type\":\"Row\"},{\"attributes\":{\"callback\":null,\"formatters\":{\"@{index}\":\"datetime\"},\"renderers\":[{\"id\":\"1795\"},{\"id\":\"1825\"},{\"id\":\"1856\"},{\"id\":\"1889\"}],\"tags\":[\"hv_created\"],\"tooltips\":[[\"Variable\",\"@{Variable}\"],[\"index\",\"@{index}{%F %T}\"],[\"value\",\"@{value}\"]]},\"id\":\"1751\",\"type\":\"HoverTool\"},{\"attributes\":{\"mantissas\":[1,2,5],\"max_interval\":500.0,\"num_minor_ticks\":0},\"id\":\"1805\",\"type\":\"AdaptiveTicker\"},{\"attributes\":{\"overlay\":{\"id\":\"1777\"}},\"id\":\"1775\",\"type\":\"BoxZoomTool\"},{\"attributes\":{\"margin\":[5,5,5,5],\"name\":\"HSpacer02687\",\"sizing_mode\":\"stretch_width\"},\"id\":\"1748\",\"type\":\"Spacer\"},{\"attributes\":{\"base\":24,\"mantissas\":[1,2,4,6,8,12],\"max_interval\":43200000.0,\"min_interval\":3600000.0,\"num_minor_ticks\":0},\"id\":\"1807\",\"type\":\"AdaptiveTicker\"},{\"attributes\":{\"line_color\":\"#d62628\",\"line_width\":2,\"x\":{\"field\":\"index\"},\"y\":{\"field\":\"value\"}},\"id\":\"1886\",\"type\":\"Line\"},{\"attributes\":{\"base\":60,\"mantissas\":[1,2,5,10,15,20,30],\"max_interval\":1800000.0,\"min_interval\":1000.0,\"num_minor_ticks\":0},\"id\":\"1806\",\"type\":\"AdaptiveTicker\"},{\"attributes\":{\"data\":{\"Variable\":[\"AMMD\",\"AMMD\",\"AMMD\",\"AMMD\",\"AMMD\",\"AMMD\",\"AMMD\",\"AMMD\",\"AMMD\",\"AMMD\",\"AMMD\",\"AMMD\",\"AMMD\",\"AMMD\",\"AMMD\",\"AMMD\",\"AMMD\",\"AMMD\",\"AMMD\",\"AMMD\",\"AMMD\",\"AMMD\",\"AMMD\",\"AMMD\",\"AMMD\",\"AMMD\",\"AMMD\",\"AMMD\",\"AMMD\",\"AMMD\",\"AMMD\",\"AMMD\",\"AMMD\",\"AMMD\",\"AMMD\",\"AMMD\",\"AMMD\",\"AMMD\",\"AMMD\",\"AMMD\",\"AMMD\",\"AMMD\",\"AMMD\",\"AMMD\",\"AMMD\",\"AMMD\",\"AMMD\",\"AMMD\",\"AMMD\",\"AMMD\",\"AMMD\",\"AMMD\"],\"index\":{\"__ndarray__\":\"AAAASfAKdkIAAMCuQgt2QgAAgBSVC3ZCAABAeucLdkIAAADgOQx2QgAAwEWMDHZCAACAq94MdkIAAEARMQ12QgAAAHeDDXZCAADA3NUNdkIAAIBCKA52QgAAQKh6DnZCAAAADs0OdkIAAMBzHw92QgAAgNlxD3ZCAABAP8QPdkIAAAClFhB2QgAAwAppEHZCAACAcLsQdkIAAEDWDRF2QgAAADxgEXZCAADAobIRdkIAAIAHBRJ2QgAAQG1XEnZCAAAA06kSdkIAAMA4/BJ2QgAAgJ5OE3ZCAABABKETdkIAAABq8xN2QgAAwM9FFHZCAACANZgUdkIAAECb6hR2QgAAAAE9FXZCAADAZo8VdkIAAIDM4RV2QgAAQDI0FnZCAAAAmIYWdkIAAMD92BZ2QgAAgGMrF3ZCAABAyX0XdkIAAAAv0Bd2QgAAwJQiGHZCAACA+nQYdkIAAEBgxxh2QgAAAMYZGXZCAADAK2wZdkIAAICRvhl2QgAAQPcQGnZCAAAAXWMadkIAAMDCtRp2QgAAgCgIG3ZCAABAjlobdkI=\",\"dtype\":\"float64\",\"order\":\"little\",\"shape\":[52]},\"value\":{\"__ndarray__\":\"AAAAAAAA+H8iTl47aHLwv9OZaNlUGylAeMFWGmrWAMBMXshwQnoFwESlnK/t4Pm/wYo83hnOBcDO27mpdjP2v+p7mwWC5wnA7ltkI8u2A8BwcX1b31zDvxmaqO9uJ/G/jbL9jcJHH8DR7jqabwPxvy44NmoW7Os/+yWbpXsHMMAeeluydmwCwF3d/qwNkvG/QOef98WHkT8EW7BG290OwFDRNUXqGq6/RKOspVVf7b/KGcBBJj1IQFC1CsIh6Oe/GA/aQ4HlAsACjtUZFygCQO0gQCkpjfG/ZY3Uz84PGcBgwPcUl67pv8755PGStglAHMmenowTyb+ASBJ+f/adv5NALCYI5Pe/QpMgR4/HFUAkOETBXILcP7gsQeORHOi/JP+ueoFV3j9pTXDROpH3v4zMXVZCDu4/al6MAMEiBcBkz82ZIuLUv/j0yme3rvW/cqDXqjNG/z8U8aIV7xTVvxj7nC2+/ALA9EEyFt7n5j+K5L+gxl/tvw7NbOMWBBvAsiRYuS8K9r+3gLHNdrMIwFStbCRepgPA7u19Tn3wBMA=\",\"dtype\":\"float64\",\"order\":\"little\",\"shape\":[52]}},\"selected\":{\"id\":\"1851\"},\"selection_policy\":{\"id\":\"1867\"}},\"id\":\"1850\",\"type\":\"ColumnDataSource\"},{\"attributes\":{},\"id\":\"1884\",\"type\":\"Selection\"},{\"attributes\":{\"days\":[1,2,3,4,5,6,7,8,9,10,11,12,13,14,15,16,17,18,19,20,21,22,23,24,25,26,27,28,29,30,31]},\"id\":\"1808\",\"type\":\"DaysTicker\"},{\"attributes\":{\"days\":[1,4,7,10,13,16,19,22,25,28]},\"id\":\"1809\",\"type\":\"DaysTicker\"},{\"attributes\":{\"source\":{\"id\":\"1883\"}},\"id\":\"1890\",\"type\":\"CDSView\"},{\"attributes\":{\"days\":[1,8,15,22]},\"id\":\"1810\",\"type\":\"DaysTicker\"},{\"attributes\":{\"data_source\":{\"id\":\"1883\"},\"glyph\":{\"id\":\"1886\"},\"hover_glyph\":null,\"muted_glyph\":{\"id\":\"1888\"},\"nonselection_glyph\":{\"id\":\"1887\"},\"selection_glyph\":null,\"view\":{\"id\":\"1890\"}},\"id\":\"1889\",\"type\":\"GlyphRenderer\"},{\"attributes\":{\"days\":[1,15]},\"id\":\"1811\",\"type\":\"DaysTicker\"},{\"attributes\":{\"data_source\":{\"id\":\"1789\"},\"glyph\":{\"id\":\"1792\"},\"hover_glyph\":null,\"muted_glyph\":{\"id\":\"1794\"},\"nonselection_glyph\":{\"id\":\"1793\"},\"selection_glyph\":null,\"view\":{\"id\":\"1796\"}},\"id\":\"1795\",\"type\":\"GlyphRenderer\"},{\"attributes\":{\"line_alpha\":0.1,\"line_color\":\"#d62628\",\"line_width\":2,\"x\":{\"field\":\"index\"},\"y\":{\"field\":\"value\"}},\"id\":\"1887\",\"type\":\"Line\"},{\"attributes\":{\"months\":[0,1,2,3,4,5,6,7,8,9,10,11]},\"id\":\"1812\",\"type\":\"MonthsTicker\"},{\"attributes\":{\"months\":[0,2,4,6,8,10]},\"id\":\"1813\",\"type\":\"MonthsTicker\"},{\"attributes\":{\"months\":[0,4,8]},\"id\":\"1814\",\"type\":\"MonthsTicker\"},{\"attributes\":{\"num_minor_ticks\":5,\"tickers\":[{\"id\":\"1805\"},{\"id\":\"1806\"},{\"id\":\"1807\"},{\"id\":\"1808\"},{\"id\":\"1809\"},{\"id\":\"1810\"},{\"id\":\"1811\"},{\"id\":\"1812\"},{\"id\":\"1813\"},{\"id\":\"1814\"},{\"id\":\"1815\"},{\"id\":\"1816\"}]},\"id\":\"1765\",\"type\":\"DatetimeTicker\"},{\"attributes\":{\"months\":[0,6]},\"id\":\"1815\",\"type\":\"MonthsTicker\"},{\"attributes\":{\"active_drag\":\"auto\",\"active_inspect\":\"auto\",\"active_multi\":null,\"active_scroll\":\"auto\",\"active_tap\":\"auto\",\"tools\":[{\"id\":\"1751\"},{\"id\":\"1772\"},{\"id\":\"1773\"},{\"id\":\"1774\"},{\"id\":\"1775\"},{\"id\":\"1776\"}]},\"id\":\"1778\",\"type\":\"Toolbar\"},{\"attributes\":{\"line_alpha\":0.1,\"line_color\":\"#ff7e0e\",\"line_width\":2,\"x\":{\"field\":\"index\"},\"y\":{\"field\":\"value\"}},\"id\":\"1823\",\"type\":\"Line\"},{\"attributes\":{},\"id\":\"1902\",\"type\":\"UnionRenderers\"},{\"attributes\":{\"source\":{\"id\":\"1819\"}},\"id\":\"1826\",\"type\":\"CDSView\"},{\"attributes\":{\"line_color\":\"#ff7e0e\",\"line_width\":2,\"x\":{\"field\":\"index\"},\"y\":{\"field\":\"value\"}},\"id\":\"1822\",\"type\":\"Line\"},{\"attributes\":{\"below\":[{\"id\":\"1764\"}],\"center\":[{\"id\":\"1767\"},{\"id\":\"1771\"}],\"left\":[{\"id\":\"1768\"}],\"margin\":[5,5,5,5],\"min_border_bottom\":10,\"min_border_left\":10,\"min_border_right\":10,\"min_border_top\":10,\"plot_height\":300,\"plot_width\":700,\"renderers\":[{\"id\":\"1795\"},{\"id\":\"1825\"},{\"id\":\"1856\"},{\"id\":\"1889\"}],\"right\":[{\"id\":\"1817\"}],\"sizing_mode\":\"fixed\",\"title\":{\"id\":\"1756\"},\"toolbar\":{\"id\":\"1778\"},\"x_range\":{\"id\":\"1749\"},\"x_scale\":{\"id\":\"1760\"},\"y_range\":{\"id\":\"1750\"},\"y_scale\":{\"id\":\"1762\"}},\"id\":\"1755\",\"subtype\":\"Figure\",\"type\":\"Plot\"},{\"attributes\":{\"line_alpha\":0.2,\"line_color\":\"#d62628\",\"line_width\":2,\"x\":{\"field\":\"index\"},\"y\":{\"field\":\"value\"}},\"id\":\"1888\",\"type\":\"Line\"},{\"attributes\":{\"label\":{\"value\":\"GOGLE\"},\"renderers\":[{\"id\":\"1825\"}]},\"id\":\"1849\",\"type\":\"LegendItem\"},{\"attributes\":{},\"id\":\"1834\",\"type\":\"UnionRenderers\"},{\"attributes\":{},\"id\":\"1762\",\"type\":\"LinearScale\"},{\"attributes\":{},\"id\":\"1774\",\"type\":\"WheelZoomTool\"},{\"attributes\":{\"text\":\"\",\"text_color\":{\"value\":\"black\"},\"text_font_size\":{\"value\":\"12pt\"}},\"id\":\"1756\",\"type\":\"Title\"},{\"attributes\":{\"data\":{\"Variable\":[\"APPL\",\"APPL\",\"APPL\",\"APPL\",\"APPL\",\"APPL\",\"APPL\",\"APPL\",\"APPL\",\"APPL\",\"APPL\",\"APPL\",\"APPL\",\"APPL\",\"APPL\",\"APPL\",\"APPL\",\"APPL\",\"APPL\",\"APPL\",\"APPL\",\"APPL\",\"APPL\",\"APPL\",\"APPL\",\"APPL\",\"APPL\",\"APPL\",\"APPL\",\"APPL\",\"APPL\",\"APPL\",\"APPL\",\"APPL\",\"APPL\",\"APPL\",\"APPL\",\"APPL\",\"APPL\",\"APPL\",\"APPL\",\"APPL\",\"APPL\",\"APPL\",\"APPL\",\"APPL\",\"APPL\",\"APPL\",\"APPL\",\"APPL\",\"APPL\",\"APPL\"],\"index\":{\"__ndarray__\":\"AAAASfAKdkIAAMCuQgt2QgAAgBSVC3ZCAABAeucLdkIAAADgOQx2QgAAwEWMDHZCAACAq94MdkIAAEARMQ12QgAAAHeDDXZCAADA3NUNdkIAAIBCKA52QgAAQKh6DnZCAAAADs0OdkIAAMBzHw92QgAAgNlxD3ZCAABAP8QPdkIAAAClFhB2QgAAwAppEHZCAACAcLsQdkIAAEDWDRF2QgAAADxgEXZCAADAobIRdkIAAIAHBRJ2QgAAQG1XEnZCAAAA06kSdkIAAMA4/BJ2QgAAgJ5OE3ZCAABABKETdkIAAABq8xN2QgAAwM9FFHZCAACANZgUdkIAAECb6hR2QgAAAAE9FXZCAADAZo8VdkIAAIDM4RV2QgAAQDI0FnZCAAAAmIYWdkIAAMD92BZ2QgAAgGMrF3ZCAABAyX0XdkIAAAAv0Bd2QgAAwJQiGHZCAACA+nQYdkIAAEBgxxh2QgAAAMYZGXZCAADAK2wZdkIAAICRvhl2QgAAQPcQGnZCAAAAXWMadkIAAMDCtRp2QgAAgCgIG3ZCAABAjlobdkI=\",\"dtype\":\"float64\",\"order\":\"little\",\"shape\":[52]},\"value\":{\"__ndarray__\":\"AAAAAAAA+H9P+7Sjud3mv860/oBn8kBAvkWfiu1S9b8EUp4ykCjyvw2Qmrr7GQ3AJsRwpEnWCUBPBf/A6Vbrv5CpKiFYEBNA4GCBiYPS3D+gjaDmtFblvyTt2QGK3wnAVusPRB9wAcBA4bY6PjHGPxjup0B2ZtM/0HQ16J+Y8r8AeNOLK5WBP3rB67ZTVfU/jWGufWQ4A8C39bzpBzTzvzLqWcZ4zug/wHjkyN6wlz82bntSeEDSv3hCZkVSld6/KKv27xCaxD/jDuo4d1caQCDNdkRk3/S/x5zQ37zS/7+MAPWnf9ACwLbVOCBBqAbA6soZveOL/L9cgxbiVNv7vwJo8R8XWxPAlB25do/n5r9r+EGtwof6vw5Mads93BBAicUrbS177r+Gn7c3z8UFwK1XfdSyHiLAGG1UNwtL+r//Ats1qrQAwGQsH/tlId0/PJTPssIT57+EuoGfh8f1v4pPE9m6NyfAiYPeVfAY7L/CqQKMr1oYQOh/BebYyNU/YFIJ+glf/r9Q3vN0bgD/v7ZcPweQnPm/OUfwgzni8b8=\",\"dtype\":\"float64\",\"order\":\"little\",\"shape\":[52]}},\"selected\":{\"id\":\"1790\"},\"selection_policy\":{\"id\":\"1802\"}},\"id\":\"1789\",\"type\":\"ColumnDataSource\"},{\"attributes\":{},\"id\":\"1790\",\"type\":\"Selection\"},{\"attributes\":{\"axis_label\":\"\",\"bounds\":\"auto\",\"formatter\":{\"id\":\"1786\"},\"major_label_orientation\":\"horizontal\",\"ticker\":{\"id\":\"1765\"}},\"id\":\"1764\",\"type\":\"DatetimeAxis\"},{\"attributes\":{},\"id\":\"1772\",\"type\":\"SaveTool\"},{\"attributes\":{},\"id\":\"1773\",\"type\":\"PanTool\"},{\"attributes\":{},\"id\":\"1776\",\"type\":\"ResetTool\"},{\"attributes\":{},\"id\":\"1786\",\"type\":\"DatetimeTickFormatter\"},{\"attributes\":{\"margin\":[5,5,5,5],\"name\":\"HSpacer02688\",\"sizing_mode\":\"stretch_width\"},\"id\":\"2152\",\"type\":\"Spacer\"},{\"attributes\":{\"click_policy\":\"mute\",\"items\":[{\"id\":\"1818\"},{\"id\":\"1849\"},{\"id\":\"1882\"},{\"id\":\"1917\"}],\"location\":[0,0],\"title\":\"Variable\"},\"id\":\"1817\",\"type\":\"Legend\"},{\"attributes\":{\"data\":{\"Variable\":[\"BCOIN\",\"BCOIN\",\"BCOIN\",\"BCOIN\",\"BCOIN\",\"BCOIN\",\"BCOIN\",\"BCOIN\",\"BCOIN\",\"BCOIN\",\"BCOIN\",\"BCOIN\",\"BCOIN\",\"BCOIN\",\"BCOIN\",\"BCOIN\",\"BCOIN\",\"BCOIN\",\"BCOIN\",\"BCOIN\",\"BCOIN\",\"BCOIN\",\"BCOIN\",\"BCOIN\",\"BCOIN\",\"BCOIN\",\"BCOIN\",\"BCOIN\",\"BCOIN\",\"BCOIN\",\"BCOIN\",\"BCOIN\",\"BCOIN\",\"BCOIN\",\"BCOIN\",\"BCOIN\",\"BCOIN\",\"BCOIN\",\"BCOIN\",\"BCOIN\",\"BCOIN\",\"BCOIN\",\"BCOIN\",\"BCOIN\",\"BCOIN\",\"BCOIN\",\"BCOIN\",\"BCOIN\",\"BCOIN\",\"BCOIN\",\"BCOIN\",\"BCOIN\"],\"index\":{\"__ndarray__\":\"AAAASfAKdkIAAMCuQgt2QgAAgBSVC3ZCAABAeucLdkIAAADgOQx2QgAAwEWMDHZCAACAq94MdkIAAEARMQ12QgAAAHeDDXZCAADA3NUNdkIAAIBCKA52QgAAQKh6DnZCAAAADs0OdkIAAMBzHw92QgAAgNlxD3ZCAABAP8QPdkIAAAClFhB2QgAAwAppEHZCAACAcLsQdkIAAEDWDRF2QgAAADxgEXZCAADAobIRdkIAAIAHBRJ2QgAAQG1XEnZCAAAA06kSdkIAAMA4/BJ2QgAAgJ5OE3ZCAABABKETdkIAAABq8xN2QgAAwM9FFHZCAACANZgUdkIAAECb6hR2QgAAAAE9FXZCAADAZo8VdkIAAIDM4RV2QgAAQDI0FnZCAAAAmIYWdkIAAMD92BZ2QgAAgGMrF3ZCAABAyX0XdkIAAAAv0Bd2QgAAwJQiGHZCAACA+nQYdkIAAEBgxxh2QgAAAMYZGXZCAADAK2wZdkIAAICRvhl2QgAAQPcQGnZCAAAAXWMadkIAAMDCtRp2QgAAgCgIG3ZCAABAjlobdkI=\",\"dtype\":\"float64\",\"order\":\"little\",\"shape\":[52]},\"value\":{\"__ndarray__\":\"AAAAAAAA+H+pOc0hHTkrQImDmj/iMvG/s40+NKMXJcBgYOc6xEiRv5zGkYIUTtw/zHoQlYBU87+nRd0kbEELwAxz2qniyve/soEexYNf+T9My+km7XL8vw580eKqpuS/OXCBH7SOFsCWwbraAi3+v62pVEmJNwRA5Ut9GosF6b9Ux6aQKqQAQMXuwq4XPve/sLDZJvpn6j8oLMa82OLov9mSHMw5hgDAbvLLt8j46r9sk/Jw0Vw2wBDZiJcW3/a/SLFB+QO70z/yA9Ya8/T9P0IAmj+qufi/SLUlon/mwT+IbSncH0/RP4DnaZ+rSv6/VJ+ATuMR+79S/oyeI8n8P/3jT+cK/uy/pEFZzGrwxb+QZlV6+PMYwGNih1r1Zfa/49uAGHHP/b/y7RhzLdYRwPxPKseeseG/rbsuThkABUBY6hRGTNznvzjn9PxBjvQ/T8df+vi957+gmUWX9ssBwKT9GhrJcvc/aJjYCGFO1j/38n7OIOLuv1E/UURcDCDA5NprySEF6L/5NI0BHhsgQGDIdrTlNbO/UrsslhTn5r8=\",\"dtype\":\"float64\",\"order\":\"little\",\"shape\":[52]}},\"selected\":{\"id\":\"1884\"},\"selection_policy\":{\"id\":\"1902\"}},\"id\":\"1883\",\"type\":\"ColumnDataSource\"},{\"attributes\":{},\"id\":\"1816\",\"type\":\"YearsTicker\"},{\"attributes\":{},\"id\":\"1851\",\"type\":\"Selection\"},{\"attributes\":{\"bottom_units\":\"screen\",\"fill_alpha\":0.5,\"fill_color\":\"lightgrey\",\"left_units\":\"screen\",\"level\":\"overlay\",\"line_alpha\":1.0,\"line_color\":\"black\",\"line_dash\":[4,4],\"line_width\":2,\"right_units\":\"screen\",\"top_units\":\"screen\"},\"id\":\"1777\",\"type\":\"BoxAnnotation\"},{\"attributes\":{\"data_source\":{\"id\":\"1850\"},\"glyph\":{\"id\":\"1853\"},\"hover_glyph\":null,\"muted_glyph\":{\"id\":\"1855\"},\"nonselection_glyph\":{\"id\":\"1854\"},\"selection_glyph\":null,\"view\":{\"id\":\"1857\"}},\"id\":\"1856\",\"type\":\"GlyphRenderer\"},{\"attributes\":{},\"id\":\"1760\",\"type\":\"LinearScale\"},{\"attributes\":{\"line_color\":\"#2ba02b\",\"line_width\":2,\"x\":{\"field\":\"index\"},\"y\":{\"field\":\"value\"}},\"id\":\"1853\",\"type\":\"Line\"},{\"attributes\":{},\"id\":\"1788\",\"type\":\"BasicTickFormatter\"},{\"attributes\":{},\"id\":\"1820\",\"type\":\"Selection\"},{\"attributes\":{\"axis_label\":\"\",\"bounds\":\"auto\",\"formatter\":{\"id\":\"1788\"},\"major_label_orientation\":\"horizontal\",\"ticker\":{\"id\":\"1769\"}},\"id\":\"1768\",\"type\":\"LinearAxis\"},{\"attributes\":{\"line_alpha\":0.1,\"line_color\":\"#1f77b3\",\"line_width\":2,\"x\":{\"field\":\"index\"},\"y\":{\"field\":\"value\"}},\"id\":\"1793\",\"type\":\"Line\"},{\"attributes\":{\"line_alpha\":0.1,\"line_color\":\"#2ba02b\",\"line_width\":2,\"x\":{\"field\":\"index\"},\"y\":{\"field\":\"value\"}},\"id\":\"1854\",\"type\":\"Line\"},{\"attributes\":{\"label\":{\"value\":\"BCOIN\"},\"renderers\":[{\"id\":\"1889\"}]},\"id\":\"1917\",\"type\":\"LegendItem\"},{\"attributes\":{\"axis\":{\"id\":\"1768\"},\"dimension\":1,\"grid_line_color\":null,\"ticker\":null},\"id\":\"1771\",\"type\":\"Grid\"},{\"attributes\":{\"data\":{\"Variable\":[\"GOGLE\",\"GOGLE\",\"GOGLE\",\"GOGLE\",\"GOGLE\",\"GOGLE\",\"GOGLE\",\"GOGLE\",\"GOGLE\",\"GOGLE\",\"GOGLE\",\"GOGLE\",\"GOGLE\",\"GOGLE\",\"GOGLE\",\"GOGLE\",\"GOGLE\",\"GOGLE\",\"GOGLE\",\"GOGLE\",\"GOGLE\",\"GOGLE\",\"GOGLE\",\"GOGLE\",\"GOGLE\",\"GOGLE\",\"GOGLE\",\"GOGLE\",\"GOGLE\",\"GOGLE\",\"GOGLE\",\"GOGLE\",\"GOGLE\",\"GOGLE\",\"GOGLE\",\"GOGLE\",\"GOGLE\",\"GOGLE\",\"GOGLE\",\"GOGLE\",\"GOGLE\",\"GOGLE\",\"GOGLE\",\"GOGLE\",\"GOGLE\",\"GOGLE\",\"GOGLE\",\"GOGLE\",\"GOGLE\",\"GOGLE\",\"GOGLE\",\"GOGLE\"],\"index\":{\"__ndarray__\":\"AAAASfAKdkIAAMCuQgt2QgAAgBSVC3ZCAABAeucLdkIAAADgOQx2QgAAwEWMDHZCAACAq94MdkIAAEARMQ12QgAAAHeDDXZCAADA3NUNdkIAAIBCKA52QgAAQKh6DnZCAAAADs0OdkIAAMBzHw92QgAAgNlxD3ZCAABAP8QPdkIAAAClFhB2QgAAwAppEHZCAACAcLsQdkIAAEDWDRF2QgAAADxgEXZCAADAobIRdkIAAIAHBRJ2QgAAQG1XEnZCAAAA06kSdkIAAMA4/BJ2QgAAgJ5OE3ZCAABABKETdkIAAABq8xN2QgAAwM9FFHZCAACANZgUdkIAAECb6hR2QgAAAAE9FXZCAADAZo8VdkIAAIDM4RV2QgAAQDI0FnZCAAAAmIYWdkIAAMD92BZ2QgAAgGMrF3ZCAABAyX0XdkIAAAAv0Bd2QgAAwJQiGHZCAACA+nQYdkIAAEBgxxh2QgAAAMYZGXZCAADAK2wZdkIAAICRvhl2QgAAQPcQGnZCAAAAXWMadkIAAMDCtRp2QgAAgCgIG3ZCAABAjlobdkI=\",\"dtype\":\"float64\",\"order\":\"little\",\"shape\":[52]},\"value\":{\"__ndarray__\":\"AAAAAAAA+H9lDB+Oikvnv8AU4WrU9Zk/np4bBszA2r9gn2cVLQgQwFIzn63f7Pc/GscEShfs7L8agATAXuAgwOjRTJJooPK/Nef5Z64eFcAj5fYte5Ttv4FEmUyGMhJA5ES5OQ5UBsDWudb/x1ACwCju1j1Yz/y/VMRJ6GWW/T+b9urI8kLpv0zIiuLostA/ZDB+daSz2D+DgT4kzhH3v1WFSeH1pw3AhNSB9eJC+b/tXL1vtwARwIxzsBJ6/+y/Z7/6ZSjq9r+Gu9rV+pgiQMLYDNBq0/a/hlrEc0Xq1b9xta/gmYYXwJw/VOhyfPU/wmdy8zAQ8L+eK9N8x61hwNalnam25/i/qF2CxxfR1j/uGOkUtRABwKxnOYzDquy/8PWqjXi6H0CQv1cpibrmv3/uRoyw5Oe/dcXb1RGBMMCWdcsOc5f2v4CmONR1V/k/fNYvPypy9r9E+Zq57IHRPz4v+pWGhu0/AuIUVRuH17+mbOh2+YfYv1i/4ek+vN4/HqNbMRzM8z91QB1l7Eziv3R2OqLIO+E/aPYxDE2T778=\",\"dtype\":\"float64\",\"order\":\"little\",\"shape\":[52]}},\"selected\":{\"id\":\"1820\"},\"selection_policy\":{\"id\":\"1834\"}},\"id\":\"1819\",\"type\":\"ColumnDataSource\"},{\"attributes\":{\"label\":{\"value\":\"APPL\"},\"renderers\":[{\"id\":\"1795\"}]},\"id\":\"1818\",\"type\":\"LegendItem\"},{\"attributes\":{},\"id\":\"1769\",\"type\":\"BasicTicker\"},{\"attributes\":{\"end\":1519171200000.0,\"reset_end\":1519171200000.0,\"reset_start\":1514764800000.0,\"start\":1514764800000.0,\"tags\":[[[\"index\",\"index\",null]]]},\"id\":\"1749\",\"type\":\"Range1d\"},{\"attributes\":{\"axis\":{\"id\":\"1764\"},\"grid_line_color\":null,\"ticker\":null},\"id\":\"1767\",\"type\":\"Grid\"},{\"attributes\":{\"line_color\":\"#1f77b3\",\"line_width\":2,\"x\":{\"field\":\"index\"},\"y\":{\"field\":\"value\"}},\"id\":\"1792\",\"type\":\"Line\"},{\"attributes\":{\"line_alpha\":0.2,\"line_color\":\"#2ba02b\",\"line_width\":2,\"x\":{\"field\":\"index\"},\"y\":{\"field\":\"value\"}},\"id\":\"1855\",\"type\":\"Line\"},{\"attributes\":{\"line_alpha\":0.2,\"line_color\":\"#1f77b3\",\"line_width\":2,\"x\":{\"field\":\"index\"},\"y\":{\"field\":\"value\"}},\"id\":\"1794\",\"type\":\"Line\"}],\"root_ids\":[\"1747\"]},\"title\":\"Bokeh Application\",\"version\":\"2.2.3\"}};\n",
       "    var render_items = [{\"docid\":\"84ced836-e6e4-4814-813f-9e036da504f9\",\"root_ids\":[\"1747\"],\"roots\":{\"1747\":\"b44aa9eb-dcf4-4787-8068-697c13d94044\"}}];\n",
       "    root.Bokeh.embed.embed_items_notebook(docs_json, render_items);\n",
       "  }\n",
       "  if (root.Bokeh !== undefined && root.Bokeh.Panel !== undefined) {\n",
       "    embed_document(root);\n",
       "  } else {\n",
       "    var attempts = 0;\n",
       "    var timer = setInterval(function(root) {\n",
       "      if (root.Bokeh !== undefined && root.Bokeh.Panel !== undefined) {\n",
       "        clearInterval(timer);\n",
       "        embed_document(root);\n",
       "      } else if (document.readyState == \"complete\") {\n",
       "        attempts++;\n",
       "        if (attempts > 100) {\n",
       "          clearInterval(timer);\n",
       "          console.log(\"Bokeh: ERROR: Unable to run BokehJS code because BokehJS library is missing\");\n",
       "        }\n",
       "      }\n",
       "    }, 10, root)\n",
       "  }\n",
       "})(window);</script>"
      ],
      "text/plain": [
       ":NdOverlay   [Variable]\n",
       "   :Curve   [index]   (value)"
      ]
     },
     "execution_count": 12,
     "metadata": {
      "application/vnd.holoviews_exec.v0+json": {
       "id": "1747"
      }
     },
     "output_type": "execute_result"
    }
   ],
   "source": [
    "# Use hvplot() function to plot data\n",
    "df.hvplot()"
   ]
  },
  {
   "cell_type": "code",
   "execution_count": 13,
   "metadata": {},
   "outputs": [
    {
     "data": {},
     "metadata": {},
     "output_type": "display_data"
    },
    {
     "data": {
      "application/vnd.holoviews_exec.v0+json": "",
      "text/html": [
       "<div id='2284'>\n",
       "\n",
       "\n",
       "\n",
       "\n",
       "\n",
       "  <div class=\"bk-root\" id=\"8dd9e533-f735-427a-ab69-ef68ecdf11c5\" data-root-id=\"2284\"></div>\n",
       "</div>\n",
       "<script type=\"application/javascript\">(function(root) {\n",
       "  function embed_document(root) {\n",
       "    var docs_json = {\"4692e462-34de-47c1-8231-cae0b5cc328b\":{\"roots\":{\"references\":[{\"attributes\":{},\"id\":\"2306\",\"type\":\"BasicTicker\"},{\"attributes\":{\"label\":{\"value\":\"BCOIN\"},\"renderers\":[{\"id\":\"2426\"}]},\"id\":\"2454\",\"type\":\"LegendItem\"},{\"attributes\":{\"source\":{\"id\":\"2387\"}},\"id\":\"2394\",\"type\":\"CDSView\"},{\"attributes\":{},\"id\":\"2353\",\"type\":\"YearsTicker\"},{\"attributes\":{},\"id\":\"2439\",\"type\":\"UnionRenderers\"},{\"attributes\":{\"mantissas\":[1,2,5],\"max_interval\":500.0,\"num_minor_ticks\":0},\"id\":\"2342\",\"type\":\"AdaptiveTicker\"},{\"attributes\":{\"data_source\":{\"id\":\"2326\"},\"glyph\":{\"id\":\"2329\"},\"hover_glyph\":null,\"muted_glyph\":{\"id\":\"2331\"},\"nonselection_glyph\":{\"id\":\"2330\"},\"selection_glyph\":null,\"view\":{\"id\":\"2333\"}},\"id\":\"2332\",\"type\":\"GlyphRenderer\"},{\"attributes\":{\"base\":24,\"mantissas\":[1,2,4,6,8,12],\"max_interval\":43200000.0,\"min_interval\":3600000.0,\"num_minor_ticks\":0},\"id\":\"2344\",\"type\":\"AdaptiveTicker\"},{\"attributes\":{\"axis\":{\"id\":\"2305\"},\"dimension\":1,\"grid_line_color\":null,\"ticker\":null},\"id\":\"2308\",\"type\":\"Grid\"},{\"attributes\":{\"source\":{\"id\":\"2326\"}},\"id\":\"2333\",\"type\":\"CDSView\"},{\"attributes\":{\"axis_label\":\"Daily Return\",\"bounds\":\"auto\",\"formatter\":{\"id\":\"2325\"},\"major_label_orientation\":\"horizontal\",\"ticker\":{\"id\":\"2306\"}},\"id\":\"2305\",\"type\":\"LinearAxis\"},{\"attributes\":{\"click_policy\":\"mute\",\"items\":[{\"id\":\"2355\"},{\"id\":\"2386\"},{\"id\":\"2419\"},{\"id\":\"2454\"}],\"location\":[0,0],\"title\":\"Variable\"},\"id\":\"2354\",\"type\":\"Legend\"},{\"attributes\":{\"bottom_units\":\"screen\",\"fill_alpha\":0.5,\"fill_color\":\"lightgrey\",\"left_units\":\"screen\",\"level\":\"overlay\",\"line_alpha\":1.0,\"line_color\":\"black\",\"line_dash\":[4,4],\"line_width\":2,\"right_units\":\"screen\",\"top_units\":\"screen\"},\"id\":\"2314\",\"type\":\"BoxAnnotation\"},{\"attributes\":{},\"id\":\"2357\",\"type\":\"Selection\"},{\"attributes\":{\"line_alpha\":0.2,\"line_color\":\"#1f77b3\",\"line_width\":2,\"x\":{\"field\":\"index\"},\"y\":{\"field\":\"value\"}},\"id\":\"2331\",\"type\":\"Line\"},{\"attributes\":{\"line_alpha\":0.2,\"line_color\":\"#ff7e0e\",\"line_width\":2,\"x\":{\"field\":\"index\"},\"y\":{\"field\":\"value\"}},\"id\":\"2361\",\"type\":\"Line\"},{\"attributes\":{\"base\":60,\"mantissas\":[1,2,5,10,15,20,30],\"max_interval\":1800000.0,\"min_interval\":1000.0,\"num_minor_ticks\":0},\"id\":\"2343\",\"type\":\"AdaptiveTicker\"},{\"attributes\":{\"line_alpha\":0.1,\"line_color\":\"#1f77b3\",\"line_width\":2,\"x\":{\"field\":\"index\"},\"y\":{\"field\":\"value\"}},\"id\":\"2330\",\"type\":\"Line\"},{\"attributes\":{\"data\":{\"Variable\":[\"AMMD\",\"AMMD\",\"AMMD\",\"AMMD\",\"AMMD\",\"AMMD\",\"AMMD\",\"AMMD\",\"AMMD\",\"AMMD\",\"AMMD\",\"AMMD\",\"AMMD\",\"AMMD\",\"AMMD\",\"AMMD\",\"AMMD\",\"AMMD\",\"AMMD\",\"AMMD\",\"AMMD\",\"AMMD\",\"AMMD\",\"AMMD\",\"AMMD\",\"AMMD\",\"AMMD\",\"AMMD\",\"AMMD\",\"AMMD\",\"AMMD\",\"AMMD\",\"AMMD\",\"AMMD\",\"AMMD\",\"AMMD\",\"AMMD\",\"AMMD\",\"AMMD\",\"AMMD\",\"AMMD\",\"AMMD\",\"AMMD\",\"AMMD\",\"AMMD\",\"AMMD\",\"AMMD\",\"AMMD\",\"AMMD\",\"AMMD\",\"AMMD\",\"AMMD\"],\"index\":{\"__ndarray__\":\"AAAASfAKdkIAAMCuQgt2QgAAgBSVC3ZCAABAeucLdkIAAADgOQx2QgAAwEWMDHZCAACAq94MdkIAAEARMQ12QgAAAHeDDXZCAADA3NUNdkIAAIBCKA52QgAAQKh6DnZCAAAADs0OdkIAAMBzHw92QgAAgNlxD3ZCAABAP8QPdkIAAAClFhB2QgAAwAppEHZCAACAcLsQdkIAAEDWDRF2QgAAADxgEXZCAADAobIRdkIAAIAHBRJ2QgAAQG1XEnZCAAAA06kSdkIAAMA4/BJ2QgAAgJ5OE3ZCAABABKETdkIAAABq8xN2QgAAwM9FFHZCAACANZgUdkIAAECb6hR2QgAAAAE9FXZCAADAZo8VdkIAAIDM4RV2QgAAQDI0FnZCAAAAmIYWdkIAAMD92BZ2QgAAgGMrF3ZCAABAyX0XdkIAAAAv0Bd2QgAAwJQiGHZCAACA+nQYdkIAAEBgxxh2QgAAAMYZGXZCAADAK2wZdkIAAICRvhl2QgAAQPcQGnZCAAAAXWMadkIAAMDCtRp2QgAAgCgIG3ZCAABAjlobdkI=\",\"dtype\":\"float64\",\"order\":\"little\",\"shape\":[52]},\"value\":{\"__ndarray__\":\"AAAAAAAA+H8iTl47aHLwv9OZaNlUGylAeMFWGmrWAMBMXshwQnoFwESlnK/t4Pm/wYo83hnOBcDO27mpdjP2v+p7mwWC5wnA7ltkI8u2A8BwcX1b31zDvxmaqO9uJ/G/jbL9jcJHH8DR7jqabwPxvy44NmoW7Os/+yWbpXsHMMAeeluydmwCwF3d/qwNkvG/QOef98WHkT8EW7BG290OwFDRNUXqGq6/RKOspVVf7b/KGcBBJj1IQFC1CsIh6Oe/GA/aQ4HlAsACjtUZFygCQO0gQCkpjfG/ZY3Uz84PGcBgwPcUl67pv8755PGStglAHMmenowTyb+ASBJ+f/adv5NALCYI5Pe/QpMgR4/HFUAkOETBXILcP7gsQeORHOi/JP+ueoFV3j9pTXDROpH3v4zMXVZCDu4/al6MAMEiBcBkz82ZIuLUv/j0yme3rvW/cqDXqjNG/z8U8aIV7xTVvxj7nC2+/ALA9EEyFt7n5j+K5L+gxl/tvw7NbOMWBBvAsiRYuS8K9r+3gLHNdrMIwFStbCRepgPA7u19Tn3wBMA=\",\"dtype\":\"float64\",\"order\":\"little\",\"shape\":[52]}},\"selected\":{\"id\":\"2388\"},\"selection_policy\":{\"id\":\"2404\"}},\"id\":\"2387\",\"type\":\"ColumnDataSource\"},{\"attributes\":{\"callback\":null,\"formatters\":{\"@{index}\":\"datetime\"},\"renderers\":[{\"id\":\"2332\"},{\"id\":\"2362\"},{\"id\":\"2393\"},{\"id\":\"2426\"}],\"tags\":[\"hv_created\"],\"tooltips\":[[\"Variable\",\"@{Variable}\"],[\"index\",\"@{index}{%F %T}\"],[\"value\",\"@{value}\"]]},\"id\":\"2288\",\"type\":\"HoverTool\"},{\"attributes\":{},\"id\":\"2309\",\"type\":\"SaveTool\"},{\"attributes\":{},\"id\":\"2327\",\"type\":\"Selection\"},{\"attributes\":{},\"id\":\"2310\",\"type\":\"PanTool\"},{\"attributes\":{\"source\":{\"id\":\"2356\"}},\"id\":\"2363\",\"type\":\"CDSView\"},{\"attributes\":{\"line_color\":\"#ff7e0e\",\"line_width\":2,\"x\":{\"field\":\"index\"},\"y\":{\"field\":\"value\"}},\"id\":\"2359\",\"type\":\"Line\"},{\"attributes\":{\"end\":1519171200000.0,\"reset_end\":1519171200000.0,\"reset_start\":1514764800000.0,\"start\":1514764800000.0,\"tags\":[[[\"index\",\"index\",null]]]},\"id\":\"2286\",\"type\":\"Range1d\"},{\"attributes\":{\"line_alpha\":0.1,\"line_color\":\"#ff7e0e\",\"line_width\":2,\"x\":{\"field\":\"index\"},\"y\":{\"field\":\"value\"}},\"id\":\"2360\",\"type\":\"Line\"},{\"attributes\":{},\"id\":\"2311\",\"type\":\"WheelZoomTool\"},{\"attributes\":{\"line_alpha\":0.2,\"line_color\":\"#2ba02b\",\"line_width\":2,\"x\":{\"field\":\"index\"},\"y\":{\"field\":\"value\"}},\"id\":\"2392\",\"type\":\"Line\"},{\"attributes\":{\"days\":[1,4,7,10,13,16,19,22,25,28]},\"id\":\"2346\",\"type\":\"DaysTicker\"},{\"attributes\":{\"overlay\":{\"id\":\"2314\"}},\"id\":\"2312\",\"type\":\"BoxZoomTool\"},{\"attributes\":{\"label\":{\"value\":\"GOGLE\"},\"renderers\":[{\"id\":\"2362\"}]},\"id\":\"2386\",\"type\":\"LegendItem\"},{\"attributes\":{},\"id\":\"2371\",\"type\":\"UnionRenderers\"},{\"attributes\":{\"data\":{\"Variable\":[\"APPL\",\"APPL\",\"APPL\",\"APPL\",\"APPL\",\"APPL\",\"APPL\",\"APPL\",\"APPL\",\"APPL\",\"APPL\",\"APPL\",\"APPL\",\"APPL\",\"APPL\",\"APPL\",\"APPL\",\"APPL\",\"APPL\",\"APPL\",\"APPL\",\"APPL\",\"APPL\",\"APPL\",\"APPL\",\"APPL\",\"APPL\",\"APPL\",\"APPL\",\"APPL\",\"APPL\",\"APPL\",\"APPL\",\"APPL\",\"APPL\",\"APPL\",\"APPL\",\"APPL\",\"APPL\",\"APPL\",\"APPL\",\"APPL\",\"APPL\",\"APPL\",\"APPL\",\"APPL\",\"APPL\",\"APPL\",\"APPL\",\"APPL\",\"APPL\",\"APPL\"],\"index\":{\"__ndarray__\":\"AAAASfAKdkIAAMCuQgt2QgAAgBSVC3ZCAABAeucLdkIAAADgOQx2QgAAwEWMDHZCAACAq94MdkIAAEARMQ12QgAAAHeDDXZCAADA3NUNdkIAAIBCKA52QgAAQKh6DnZCAAAADs0OdkIAAMBzHw92QgAAgNlxD3ZCAABAP8QPdkIAAAClFhB2QgAAwAppEHZCAACAcLsQdkIAAEDWDRF2QgAAADxgEXZCAADAobIRdkIAAIAHBRJ2QgAAQG1XEnZCAAAA06kSdkIAAMA4/BJ2QgAAgJ5OE3ZCAABABKETdkIAAABq8xN2QgAAwM9FFHZCAACANZgUdkIAAECb6hR2QgAAAAE9FXZCAADAZo8VdkIAAIDM4RV2QgAAQDI0FnZCAAAAmIYWdkIAAMD92BZ2QgAAgGMrF3ZCAABAyX0XdkIAAAAv0Bd2QgAAwJQiGHZCAACA+nQYdkIAAEBgxxh2QgAAAMYZGXZCAADAK2wZdkIAAICRvhl2QgAAQPcQGnZCAAAAXWMadkIAAMDCtRp2QgAAgCgIG3ZCAABAjlobdkI=\",\"dtype\":\"float64\",\"order\":\"little\",\"shape\":[52]},\"value\":{\"__ndarray__\":\"AAAAAAAA+H9P+7Sjud3mv860/oBn8kBAvkWfiu1S9b8EUp4ykCjyvw2Qmrr7GQ3AJsRwpEnWCUBPBf/A6Vbrv5CpKiFYEBNA4GCBiYPS3D+gjaDmtFblvyTt2QGK3wnAVusPRB9wAcBA4bY6PjHGPxjup0B2ZtM/0HQ16J+Y8r8AeNOLK5WBP3rB67ZTVfU/jWGufWQ4A8C39bzpBzTzvzLqWcZ4zug/wHjkyN6wlz82bntSeEDSv3hCZkVSld6/KKv27xCaxD/jDuo4d1caQCDNdkRk3/S/x5zQ37zS/7+MAPWnf9ACwLbVOCBBqAbA6soZveOL/L9cgxbiVNv7vwJo8R8XWxPAlB25do/n5r9r+EGtwof6vw5Mads93BBAicUrbS177r+Gn7c3z8UFwK1XfdSyHiLAGG1UNwtL+r//Ats1qrQAwGQsH/tlId0/PJTPssIT57+EuoGfh8f1v4pPE9m6NyfAiYPeVfAY7L/CqQKMr1oYQOh/BebYyNU/YFIJ+glf/r9Q3vN0bgD/v7ZcPweQnPm/OUfwgzni8b8=\",\"dtype\":\"float64\",\"order\":\"little\",\"shape\":[52]}},\"selected\":{\"id\":\"2327\"},\"selection_policy\":{\"id\":\"2339\"}},\"id\":\"2326\",\"type\":\"ColumnDataSource\"},{\"attributes\":{},\"id\":\"2339\",\"type\":\"UnionRenderers\"},{\"attributes\":{\"line_alpha\":0.1,\"line_color\":\"#2ba02b\",\"line_width\":2,\"x\":{\"field\":\"index\"},\"y\":{\"field\":\"value\"}},\"id\":\"2391\",\"type\":\"Line\"},{\"attributes\":{\"data_source\":{\"id\":\"2356\"},\"glyph\":{\"id\":\"2359\"},\"hover_glyph\":null,\"muted_glyph\":{\"id\":\"2361\"},\"nonselection_glyph\":{\"id\":\"2360\"},\"selection_glyph\":null,\"view\":{\"id\":\"2363\"}},\"id\":\"2362\",\"type\":\"GlyphRenderer\"},{\"attributes\":{},\"id\":\"2313\",\"type\":\"ResetTool\"},{\"attributes\":{\"active_drag\":\"auto\",\"active_inspect\":\"auto\",\"active_multi\":null,\"active_scroll\":\"auto\",\"active_tap\":\"auto\",\"tools\":[{\"id\":\"2288\"},{\"id\":\"2309\"},{\"id\":\"2310\"},{\"id\":\"2311\"},{\"id\":\"2312\"},{\"id\":\"2313\"}]},\"id\":\"2315\",\"type\":\"Toolbar\"},{\"attributes\":{\"label\":{\"value\":\"AMMD\"},\"renderers\":[{\"id\":\"2393\"}]},\"id\":\"2419\",\"type\":\"LegendItem\"},{\"attributes\":{},\"id\":\"2323\",\"type\":\"DatetimeTickFormatter\"},{\"attributes\":{\"months\":[0,6]},\"id\":\"2352\",\"type\":\"MonthsTicker\"},{\"attributes\":{\"children\":[{\"id\":\"2285\"},{\"id\":\"2292\"},{\"id\":\"2689\"}],\"margin\":[0,0,0,0],\"name\":\"Row03443\",\"tags\":[\"embedded\"]},\"id\":\"2284\",\"type\":\"Row\"},{\"attributes\":{},\"id\":\"2404\",\"type\":\"UnionRenderers\"},{\"attributes\":{\"data\":{\"Variable\":[\"BCOIN\",\"BCOIN\",\"BCOIN\",\"BCOIN\",\"BCOIN\",\"BCOIN\",\"BCOIN\",\"BCOIN\",\"BCOIN\",\"BCOIN\",\"BCOIN\",\"BCOIN\",\"BCOIN\",\"BCOIN\",\"BCOIN\",\"BCOIN\",\"BCOIN\",\"BCOIN\",\"BCOIN\",\"BCOIN\",\"BCOIN\",\"BCOIN\",\"BCOIN\",\"BCOIN\",\"BCOIN\",\"BCOIN\",\"BCOIN\",\"BCOIN\",\"BCOIN\",\"BCOIN\",\"BCOIN\",\"BCOIN\",\"BCOIN\",\"BCOIN\",\"BCOIN\",\"BCOIN\",\"BCOIN\",\"BCOIN\",\"BCOIN\",\"BCOIN\",\"BCOIN\",\"BCOIN\",\"BCOIN\",\"BCOIN\",\"BCOIN\",\"BCOIN\",\"BCOIN\",\"BCOIN\",\"BCOIN\",\"BCOIN\",\"BCOIN\",\"BCOIN\"],\"index\":{\"__ndarray__\":\"AAAASfAKdkIAAMCuQgt2QgAAgBSVC3ZCAABAeucLdkIAAADgOQx2QgAAwEWMDHZCAACAq94MdkIAAEARMQ12QgAAAHeDDXZCAADA3NUNdkIAAIBCKA52QgAAQKh6DnZCAAAADs0OdkIAAMBzHw92QgAAgNlxD3ZCAABAP8QPdkIAAAClFhB2QgAAwAppEHZCAACAcLsQdkIAAEDWDRF2QgAAADxgEXZCAADAobIRdkIAAIAHBRJ2QgAAQG1XEnZCAAAA06kSdkIAAMA4/BJ2QgAAgJ5OE3ZCAABABKETdkIAAABq8xN2QgAAwM9FFHZCAACANZgUdkIAAECb6hR2QgAAAAE9FXZCAADAZo8VdkIAAIDM4RV2QgAAQDI0FnZCAAAAmIYWdkIAAMD92BZ2QgAAgGMrF3ZCAABAyX0XdkIAAAAv0Bd2QgAAwJQiGHZCAACA+nQYdkIAAEBgxxh2QgAAAMYZGXZCAADAK2wZdkIAAICRvhl2QgAAQPcQGnZCAAAAXWMadkIAAMDCtRp2QgAAgCgIG3ZCAABAjlobdkI=\",\"dtype\":\"float64\",\"order\":\"little\",\"shape\":[52]},\"value\":{\"__ndarray__\":\"AAAAAAAA+H+pOc0hHTkrQImDmj/iMvG/s40+NKMXJcBgYOc6xEiRv5zGkYIUTtw/zHoQlYBU87+nRd0kbEELwAxz2qniyve/soEexYNf+T9My+km7XL8vw580eKqpuS/OXCBH7SOFsCWwbraAi3+v62pVEmJNwRA5Ut9GosF6b9Ux6aQKqQAQMXuwq4XPve/sLDZJvpn6j8oLMa82OLov9mSHMw5hgDAbvLLt8j46r9sk/Jw0Vw2wBDZiJcW3/a/SLFB+QO70z/yA9Ya8/T9P0IAmj+qufi/SLUlon/mwT+IbSncH0/RP4DnaZ+rSv6/VJ+ATuMR+79S/oyeI8n8P/3jT+cK/uy/pEFZzGrwxb+QZlV6+PMYwGNih1r1Zfa/49uAGHHP/b/y7RhzLdYRwPxPKseeseG/rbsuThkABUBY6hRGTNznvzjn9PxBjvQ/T8df+vi957+gmUWX9ssBwKT9GhrJcvc/aJjYCGFO1j/38n7OIOLuv1E/UURcDCDA5NprySEF6L/5NI0BHhsgQGDIdrTlNbO/UrsslhTn5r8=\",\"dtype\":\"float64\",\"order\":\"little\",\"shape\":[52]}},\"selected\":{\"id\":\"2421\"},\"selection_policy\":{\"id\":\"2439\"}},\"id\":\"2420\",\"type\":\"ColumnDataSource\"},{\"attributes\":{\"data_source\":{\"id\":\"2387\"},\"glyph\":{\"id\":\"2390\"},\"hover_glyph\":null,\"muted_glyph\":{\"id\":\"2392\"},\"nonselection_glyph\":{\"id\":\"2391\"},\"selection_glyph\":null,\"view\":{\"id\":\"2394\"}},\"id\":\"2393\",\"type\":\"GlyphRenderer\"},{\"attributes\":{\"months\":[0,1,2,3,4,5,6,7,8,9,10,11]},\"id\":\"2349\",\"type\":\"MonthsTicker\"},{\"attributes\":{\"line_color\":\"#2ba02b\",\"line_width\":2,\"x\":{\"field\":\"index\"},\"y\":{\"field\":\"value\"}},\"id\":\"2390\",\"type\":\"Line\"},{\"attributes\":{\"label\":{\"value\":\"APPL\"},\"renderers\":[{\"id\":\"2332\"}]},\"id\":\"2355\",\"type\":\"LegendItem\"},{\"attributes\":{\"days\":[1,8,15,22]},\"id\":\"2347\",\"type\":\"DaysTicker\"},{\"attributes\":{},\"id\":\"2421\",\"type\":\"Selection\"},{\"attributes\":{\"margin\":[5,5,5,5],\"name\":\"HSpacer03447\",\"sizing_mode\":\"stretch_width\"},\"id\":\"2285\",\"type\":\"Spacer\"},{\"attributes\":{},\"id\":\"2325\",\"type\":\"BasicTickFormatter\"},{\"attributes\":{\"margin\":[5,5,5,5],\"name\":\"HSpacer03448\",\"sizing_mode\":\"stretch_width\"},\"id\":\"2689\",\"type\":\"Spacer\"},{\"attributes\":{},\"id\":\"2297\",\"type\":\"LinearScale\"},{\"attributes\":{\"months\":[0,4,8]},\"id\":\"2351\",\"type\":\"MonthsTicker\"},{\"attributes\":{\"end\":67.46856315796215,\"reset_end\":67.46856315796215,\"reset_start\":-160.4214346652663,\"start\":-160.4214346652663,\"tags\":[[[\"value\",\"value\",null]]]},\"id\":\"2287\",\"type\":\"Range1d\"},{\"attributes\":{\"axis\":{\"id\":\"2301\"},\"grid_line_color\":null,\"ticker\":null},\"id\":\"2304\",\"type\":\"Grid\"},{\"attributes\":{\"line_alpha\":0.1,\"line_color\":\"#d62628\",\"line_width\":2,\"x\":{\"field\":\"index\"},\"y\":{\"field\":\"value\"}},\"id\":\"2424\",\"type\":\"Line\"},{\"attributes\":{\"months\":[0,2,4,6,8,10]},\"id\":\"2350\",\"type\":\"MonthsTicker\"},{\"attributes\":{\"data_source\":{\"id\":\"2420\"},\"glyph\":{\"id\":\"2423\"},\"hover_glyph\":null,\"muted_glyph\":{\"id\":\"2425\"},\"nonselection_glyph\":{\"id\":\"2424\"},\"selection_glyph\":null,\"view\":{\"id\":\"2427\"}},\"id\":\"2426\",\"type\":\"GlyphRenderer\"},{\"attributes\":{\"data\":{\"Variable\":[\"GOGLE\",\"GOGLE\",\"GOGLE\",\"GOGLE\",\"GOGLE\",\"GOGLE\",\"GOGLE\",\"GOGLE\",\"GOGLE\",\"GOGLE\",\"GOGLE\",\"GOGLE\",\"GOGLE\",\"GOGLE\",\"GOGLE\",\"GOGLE\",\"GOGLE\",\"GOGLE\",\"GOGLE\",\"GOGLE\",\"GOGLE\",\"GOGLE\",\"GOGLE\",\"GOGLE\",\"GOGLE\",\"GOGLE\",\"GOGLE\",\"GOGLE\",\"GOGLE\",\"GOGLE\",\"GOGLE\",\"GOGLE\",\"GOGLE\",\"GOGLE\",\"GOGLE\",\"GOGLE\",\"GOGLE\",\"GOGLE\",\"GOGLE\",\"GOGLE\",\"GOGLE\",\"GOGLE\",\"GOGLE\",\"GOGLE\",\"GOGLE\",\"GOGLE\",\"GOGLE\",\"GOGLE\",\"GOGLE\",\"GOGLE\",\"GOGLE\",\"GOGLE\"],\"index\":{\"__ndarray__\":\"AAAASfAKdkIAAMCuQgt2QgAAgBSVC3ZCAABAeucLdkIAAADgOQx2QgAAwEWMDHZCAACAq94MdkIAAEARMQ12QgAAAHeDDXZCAADA3NUNdkIAAIBCKA52QgAAQKh6DnZCAAAADs0OdkIAAMBzHw92QgAAgNlxD3ZCAABAP8QPdkIAAAClFhB2QgAAwAppEHZCAACAcLsQdkIAAEDWDRF2QgAAADxgEXZCAADAobIRdkIAAIAHBRJ2QgAAQG1XEnZCAAAA06kSdkIAAMA4/BJ2QgAAgJ5OE3ZCAABABKETdkIAAABq8xN2QgAAwM9FFHZCAACANZgUdkIAAECb6hR2QgAAAAE9FXZCAADAZo8VdkIAAIDM4RV2QgAAQDI0FnZCAAAAmIYWdkIAAMD92BZ2QgAAgGMrF3ZCAABAyX0XdkIAAAAv0Bd2QgAAwJQiGHZCAACA+nQYdkIAAEBgxxh2QgAAAMYZGXZCAADAK2wZdkIAAICRvhl2QgAAQPcQGnZCAAAAXWMadkIAAMDCtRp2QgAAgCgIG3ZCAABAjlobdkI=\",\"dtype\":\"float64\",\"order\":\"little\",\"shape\":[52]},\"value\":{\"__ndarray__\":\"AAAAAAAA+H9lDB+Oikvnv8AU4WrU9Zk/np4bBszA2r9gn2cVLQgQwFIzn63f7Pc/GscEShfs7L8agATAXuAgwOjRTJJooPK/Nef5Z64eFcAj5fYte5Ttv4FEmUyGMhJA5ES5OQ5UBsDWudb/x1ACwCju1j1Yz/y/VMRJ6GWW/T+b9urI8kLpv0zIiuLostA/ZDB+daSz2D+DgT4kzhH3v1WFSeH1pw3AhNSB9eJC+b/tXL1vtwARwIxzsBJ6/+y/Z7/6ZSjq9r+Gu9rV+pgiQMLYDNBq0/a/hlrEc0Xq1b9xta/gmYYXwJw/VOhyfPU/wmdy8zAQ8L+eK9N8x61hwNalnam25/i/qF2CxxfR1j/uGOkUtRABwKxnOYzDquy/8PWqjXi6H0CQv1cpibrmv3/uRoyw5Oe/dcXb1RGBMMCWdcsOc5f2v4CmONR1V/k/fNYvPypy9r9E+Zq57IHRPz4v+pWGhu0/AuIUVRuH17+mbOh2+YfYv1i/4ek+vN4/HqNbMRzM8z91QB1l7Eziv3R2OqLIO+E/aPYxDE2T778=\",\"dtype\":\"float64\",\"order\":\"little\",\"shape\":[52]}},\"selected\":{\"id\":\"2357\"},\"selection_policy\":{\"id\":\"2371\"}},\"id\":\"2356\",\"type\":\"ColumnDataSource\"},{\"attributes\":{\"num_minor_ticks\":5,\"tickers\":[{\"id\":\"2342\"},{\"id\":\"2343\"},{\"id\":\"2344\"},{\"id\":\"2345\"},{\"id\":\"2346\"},{\"id\":\"2347\"},{\"id\":\"2348\"},{\"id\":\"2349\"},{\"id\":\"2350\"},{\"id\":\"2351\"},{\"id\":\"2352\"},{\"id\":\"2353\"}]},\"id\":\"2302\",\"type\":\"DatetimeTicker\"},{\"attributes\":{\"axis_label\":\"Year\",\"bounds\":\"auto\",\"formatter\":{\"id\":\"2323\"},\"major_label_orientation\":\"horizontal\",\"ticker\":{\"id\":\"2302\"}},\"id\":\"2301\",\"type\":\"DatetimeAxis\"},{\"attributes\":{\"line_color\":\"#1f77b3\",\"line_width\":2,\"x\":{\"field\":\"index\"},\"y\":{\"field\":\"value\"}},\"id\":\"2329\",\"type\":\"Line\"},{\"attributes\":{\"source\":{\"id\":\"2420\"}},\"id\":\"2427\",\"type\":\"CDSView\"},{\"attributes\":{\"days\":[1,2,3,4,5,6,7,8,9,10,11,12,13,14,15,16,17,18,19,20,21,22,23,24,25,26,27,28,29,30,31]},\"id\":\"2345\",\"type\":\"DaysTicker\"},{\"attributes\":{\"line_color\":\"#d62628\",\"line_width\":2,\"x\":{\"field\":\"index\"},\"y\":{\"field\":\"value\"}},\"id\":\"2423\",\"type\":\"Line\"},{\"attributes\":{\"days\":[1,15]},\"id\":\"2348\",\"type\":\"DaysTicker\"},{\"attributes\":{\"below\":[{\"id\":\"2301\"}],\"center\":[{\"id\":\"2304\"},{\"id\":\"2308\"}],\"left\":[{\"id\":\"2305\"}],\"margin\":[5,5,5,5],\"min_border_bottom\":10,\"min_border_left\":10,\"min_border_right\":10,\"min_border_top\":10,\"plot_height\":300,\"plot_width\":700,\"renderers\":[{\"id\":\"2332\"},{\"id\":\"2362\"},{\"id\":\"2393\"},{\"id\":\"2426\"}],\"right\":[{\"id\":\"2354\"}],\"sizing_mode\":\"fixed\",\"title\":{\"id\":\"2293\"},\"toolbar\":{\"id\":\"2315\"},\"x_range\":{\"id\":\"2286\"},\"x_scale\":{\"id\":\"2297\"},\"y_range\":{\"id\":\"2287\"},\"y_scale\":{\"id\":\"2299\"}},\"id\":\"2292\",\"subtype\":\"Figure\",\"type\":\"Plot\"},{\"attributes\":{\"line_alpha\":0.2,\"line_color\":\"#d62628\",\"line_width\":2,\"x\":{\"field\":\"index\"},\"y\":{\"field\":\"value\"}},\"id\":\"2425\",\"type\":\"Line\"},{\"attributes\":{\"text\":\"\",\"text_color\":{\"value\":\"black\"},\"text_font_size\":{\"value\":\"12pt\"}},\"id\":\"2293\",\"type\":\"Title\"},{\"attributes\":{},\"id\":\"2299\",\"type\":\"LinearScale\"},{\"attributes\":{},\"id\":\"2388\",\"type\":\"Selection\"}],\"root_ids\":[\"2284\"]},\"title\":\"Bokeh Application\",\"version\":\"2.2.3\"}};\n",
       "    var render_items = [{\"docid\":\"4692e462-34de-47c1-8231-cae0b5cc328b\",\"root_ids\":[\"2284\"],\"roots\":{\"2284\":\"8dd9e533-f735-427a-ab69-ef68ecdf11c5\"}}];\n",
       "    root.Bokeh.embed.embed_items_notebook(docs_json, render_items);\n",
       "  }\n",
       "  if (root.Bokeh !== undefined && root.Bokeh.Panel !== undefined) {\n",
       "    embed_document(root);\n",
       "  } else {\n",
       "    var attempts = 0;\n",
       "    var timer = setInterval(function(root) {\n",
       "      if (root.Bokeh !== undefined && root.Bokeh.Panel !== undefined) {\n",
       "        clearInterval(timer);\n",
       "        embed_document(root);\n",
       "      } else if (document.readyState == \"complete\") {\n",
       "        attempts++;\n",
       "        if (attempts > 100) {\n",
       "          clearInterval(timer);\n",
       "          console.log(\"Bokeh: ERROR: Unable to run BokehJS code because BokehJS library is missing\");\n",
       "        }\n",
       "      }\n",
       "    }, 10, root)\n",
       "  }\n",
       "})(window);</script>"
      ],
      "text/plain": [
       ":NdOverlay   [Variable]\n",
       "   :Curve   [index]   (value)"
      ]
     },
     "execution_count": 13,
     "metadata": {
      "application/vnd.holoviews_exec.v0+json": {
       "id": "2284"
      }
     },
     "output_type": "execute_result"
    }
   ],
   "source": [
    "# Use hplot.line to create line plot\n",
    "df.hvplot.line(xlabel=\"Year\", ylabel=\"Daily Return\")"
   ]
  },
  {
   "cell_type": "code",
   "execution_count": 14,
   "metadata": {},
   "outputs": [],
   "source": [
    "# Data Prep\n",
    "df = pd.DataFrame(\n",
    "    {\n",
    "        \"ticker\": [\"APPL\", \"GOGLE\", \"AMMD\", \"BCOIN\"],\n",
    "        \"daily_return\": (4.50, 10, 33.0, 55.25),\n",
    "    }\n",
    ")"
   ]
  },
  {
   "cell_type": "code",
   "execution_count": 15,
   "metadata": {},
   "outputs": [
    {
     "data": {},
     "metadata": {},
     "output_type": "display_data"
    },
    {
     "data": {
      "application/vnd.holoviews_exec.v0+json": "",
      "text/html": [
       "<div id='2821'>\n",
       "\n",
       "\n",
       "\n",
       "\n",
       "\n",
       "  <div class=\"bk-root\" id=\"8fb99bad-8e11-46b6-a917-193cd9203566\" data-root-id=\"2821\"></div>\n",
       "</div>\n",
       "<script type=\"application/javascript\">(function(root) {\n",
       "  function embed_document(root) {\n",
       "    var docs_json = {\"db2b5071-8011-4e4f-8e38-e2e862968c6b\":{\"roots\":{\"references\":[{\"attributes\":{\"fill_alpha\":{\"value\":0.2},\"fill_color\":{\"value\":\"#1f77b3\"},\"line_alpha\":{\"value\":0.2},\"top\":{\"field\":\"daily_return\"},\"width\":{\"value\":0.8},\"x\":{\"field\":\"ticker\"}},\"id\":\"2860\",\"type\":\"VBar\"},{\"attributes\":{\"data_source\":{\"id\":\"2855\"},\"glyph\":{\"id\":\"2858\"},\"hover_glyph\":null,\"muted_glyph\":{\"id\":\"2860\"},\"nonselection_glyph\":{\"id\":\"2859\"},\"selection_glyph\":null,\"view\":{\"id\":\"2862\"}},\"id\":\"2861\",\"type\":\"GlyphRenderer\"},{\"attributes\":{},\"id\":\"2831\",\"type\":\"CategoricalScale\"},{\"attributes\":{\"bottom_units\":\"screen\",\"fill_alpha\":0.5,\"fill_color\":\"lightgrey\",\"left_units\":\"screen\",\"level\":\"overlay\",\"line_alpha\":1.0,\"line_color\":\"black\",\"line_dash\":[4,4],\"line_width\":2,\"right_units\":\"screen\",\"top_units\":\"screen\"},\"id\":\"2847\",\"type\":\"BoxAnnotation\"},{\"attributes\":{\"fill_alpha\":{\"value\":0.1},\"fill_color\":{\"value\":\"#1f77b3\"},\"line_alpha\":{\"value\":0.1},\"top\":{\"field\":\"daily_return\"},\"width\":{\"value\":0.8},\"x\":{\"field\":\"ticker\"}},\"id\":\"2859\",\"type\":\"VBar\"},{\"attributes\":{\"fill_color\":{\"value\":\"#1f77b3\"},\"top\":{\"field\":\"daily_return\"},\"width\":{\"value\":0.8},\"x\":{\"field\":\"ticker\"}},\"id\":\"2858\",\"type\":\"VBar\"},{\"attributes\":{\"callback\":null,\"renderers\":[{\"id\":\"2861\"}],\"tags\":[\"hv_created\"],\"tooltips\":[[\"ticker\",\"@{ticker}\"],[\"daily_return\",\"@{daily_return}\"]]},\"id\":\"2825\",\"type\":\"HoverTool\"},{\"attributes\":{},\"id\":\"2842\",\"type\":\"SaveTool\"},{\"attributes\":{},\"id\":\"2872\",\"type\":\"UnionRenderers\"},{\"attributes\":{},\"id\":\"2843\",\"type\":\"PanTool\"},{\"attributes\":{},\"id\":\"2856\",\"type\":\"Selection\"},{\"attributes\":{\"factors\":[\"APPL\",\"GOGLE\",\"AMMD\",\"BCOIN\"],\"tags\":[[[\"ticker\",\"ticker\",null]]]},\"id\":\"2823\",\"type\":\"FactorRange\"},{\"attributes\":{},\"id\":\"2866\",\"type\":\"BasicTickFormatter\"},{\"attributes\":{},\"id\":\"2844\",\"type\":\"WheelZoomTool\"},{\"attributes\":{\"active_drag\":\"auto\",\"active_inspect\":\"auto\",\"active_multi\":null,\"active_scroll\":\"auto\",\"active_tap\":\"auto\",\"tools\":[{\"id\":\"2825\"},{\"id\":\"2842\"},{\"id\":\"2843\"},{\"id\":\"2844\"},{\"id\":\"2845\"},{\"id\":\"2846\"}]},\"id\":\"2848\",\"type\":\"Toolbar\"},{\"attributes\":{},\"id\":\"2836\",\"type\":\"CategoricalTicker\"},{\"attributes\":{},\"id\":\"2863\",\"type\":\"CategoricalTickFormatter\"},{\"attributes\":{\"below\":[{\"id\":\"2835\"}],\"center\":[{\"id\":\"2837\"},{\"id\":\"2841\"}],\"left\":[{\"id\":\"2838\"}],\"margin\":[5,5,5,5],\"min_border_bottom\":10,\"min_border_left\":10,\"min_border_right\":10,\"min_border_top\":10,\"plot_height\":300,\"plot_width\":700,\"renderers\":[{\"id\":\"2861\"}],\"sizing_mode\":\"fixed\",\"title\":{\"id\":\"2827\"},\"toolbar\":{\"id\":\"2848\"},\"x_range\":{\"id\":\"2823\"},\"x_scale\":{\"id\":\"2831\"},\"y_range\":{\"id\":\"2824\"},\"y_scale\":{\"id\":\"2833\"}},\"id\":\"2826\",\"subtype\":\"Figure\",\"type\":\"Plot\"},{\"attributes\":{\"margin\":[5,5,5,5],\"name\":\"HSpacer04137\",\"sizing_mode\":\"stretch_width\"},\"id\":\"2822\",\"type\":\"Spacer\"},{\"attributes\":{\"overlay\":{\"id\":\"2847\"}},\"id\":\"2845\",\"type\":\"BoxZoomTool\"},{\"attributes\":{\"axis_label\":\"Ticker\",\"bounds\":\"auto\",\"formatter\":{\"id\":\"2863\"},\"major_label_orientation\":1.5707963267948966,\"ticker\":{\"id\":\"2836\"}},\"id\":\"2835\",\"type\":\"CategoricalAxis\"},{\"attributes\":{\"axis\":{\"id\":\"2838\"},\"dimension\":1,\"grid_line_color\":null,\"ticker\":null},\"id\":\"2841\",\"type\":\"Grid\"},{\"attributes\":{\"children\":[{\"id\":\"2822\"},{\"id\":\"2826\"},{\"id\":\"2883\"}],\"margin\":[0,0,0,0],\"name\":\"Row04133\",\"tags\":[\"embedded\"]},\"id\":\"2821\",\"type\":\"Row\"},{\"attributes\":{\"source\":{\"id\":\"2855\"}},\"id\":\"2862\",\"type\":\"CDSView\"},{\"attributes\":{},\"id\":\"2846\",\"type\":\"ResetTool\"},{\"attributes\":{\"end\":60.325,\"reset_end\":60.325,\"reset_start\":0.0,\"tags\":[[[\"daily_return\",\"daily_return\",null]]]},\"id\":\"2824\",\"type\":\"Range1d\"},{\"attributes\":{},\"id\":\"2833\",\"type\":\"LinearScale\"},{\"attributes\":{\"text\":\"\",\"text_color\":{\"value\":\"black\"},\"text_font_size\":{\"value\":\"12pt\"}},\"id\":\"2827\",\"type\":\"Title\"},{\"attributes\":{\"margin\":[5,5,5,5],\"name\":\"HSpacer04138\",\"sizing_mode\":\"stretch_width\"},\"id\":\"2883\",\"type\":\"Spacer\"},{\"attributes\":{\"data\":{\"daily_return\":{\"__ndarray__\":\"AAAAAAAAEkAAAAAAAAAkQAAAAAAAgEBAAAAAAACgS0A=\",\"dtype\":\"float64\",\"order\":\"little\",\"shape\":[4]},\"ticker\":[\"APPL\",\"GOGLE\",\"AMMD\",\"BCOIN\"]},\"selected\":{\"id\":\"2856\"},\"selection_policy\":{\"id\":\"2872\"}},\"id\":\"2855\",\"type\":\"ColumnDataSource\"},{\"attributes\":{\"axis\":{\"id\":\"2835\"},\"grid_line_color\":null,\"ticker\":null},\"id\":\"2837\",\"type\":\"Grid\"},{\"attributes\":{},\"id\":\"2839\",\"type\":\"BasicTicker\"},{\"attributes\":{\"axis_label\":\"Daily Return\",\"bounds\":\"auto\",\"formatter\":{\"id\":\"2866\"},\"major_label_orientation\":\"horizontal\",\"ticker\":{\"id\":\"2839\"}},\"id\":\"2838\",\"type\":\"LinearAxis\"}],\"root_ids\":[\"2821\"]},\"title\":\"Bokeh Application\",\"version\":\"2.2.3\"}};\n",
       "    var render_items = [{\"docid\":\"db2b5071-8011-4e4f-8e38-e2e862968c6b\",\"root_ids\":[\"2821\"],\"roots\":{\"2821\":\"8fb99bad-8e11-46b6-a917-193cd9203566\"}}];\n",
       "    root.Bokeh.embed.embed_items_notebook(docs_json, render_items);\n",
       "  }\n",
       "  if (root.Bokeh !== undefined && root.Bokeh.Panel !== undefined) {\n",
       "    embed_document(root);\n",
       "  } else {\n",
       "    var attempts = 0;\n",
       "    var timer = setInterval(function(root) {\n",
       "      if (root.Bokeh !== undefined && root.Bokeh.Panel !== undefined) {\n",
       "        clearInterval(timer);\n",
       "        embed_document(root);\n",
       "      } else if (document.readyState == \"complete\") {\n",
       "        attempts++;\n",
       "        if (attempts > 100) {\n",
       "          clearInterval(timer);\n",
       "          console.log(\"Bokeh: ERROR: Unable to run BokehJS code because BokehJS library is missing\");\n",
       "        }\n",
       "      }\n",
       "    }, 10, root)\n",
       "  }\n",
       "})(window);</script>"
      ],
      "text/plain": [
       ":Bars   [ticker]   (daily_return)"
      ]
     },
     "execution_count": 15,
     "metadata": {
      "application/vnd.holoviews_exec.v0+json": {
       "id": "2821"
      }
     },
     "output_type": "execute_result"
    }
   ],
   "source": [
    "# Use hvplot.bar() to create bar plot with categorical data\n",
    "df.hvplot.bar(\n",
    "    x=\"ticker\", y=\"daily_return\", xlabel=\"Ticker\", ylabel=\"Daily Return\", rot=90\n",
    ")"
   ]
  }
 ],
 "metadata": {
  "kernelspec": {
   "display_name": "Python 3",
   "language": "python",
   "name": "python3"
  },
  "language_info": {
   "codemirror_mode": {
    "name": "ipython",
    "version": 3
   },
   "file_extension": ".py",
   "mimetype": "text/x-python",
   "name": "python",
   "nbconvert_exporter": "python",
   "pygments_lexer": "ipython3",
   "version": "3.7.9"
  }
 },
 "nbformat": 4,
 "nbformat_minor": 4
}
